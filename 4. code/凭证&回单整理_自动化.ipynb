{
 "cells": [
  {
   "cell_type": "markdown",
   "id": "20fb637a",
   "metadata": {},
   "source": [
    "# 一、处理回单"
   ]
  },
  {
   "cell_type": "markdown",
   "id": "4d416783",
   "metadata": {},
   "source": [
    "## 1.1 拆分PDF"
   ]
  },
  {
   "cell_type": "markdown",
   "id": "396fc1b8",
   "metadata": {},
   "source": [
    "### 1.1.1 招商银行"
   ]
  },
  {
   "cell_type": "markdown",
   "id": "9758f7aa",
   "metadata": {},
   "source": [
    "#### 其他银行的处理方式与招商银行大同小异，为节省篇幅以及更简洁地介绍项目，在此仅以招商银行为例"
   ]
  },
  {
   "cell_type": "code",
   "execution_count": 1,
   "id": "2ae7a138",
   "metadata": {},
   "outputs": [],
   "source": [
    "# 模块导入\n",
    "import os\n",
    "import fitz  # PyMuPDF\n",
    "from pathlib import Path"
   ]
  },
  {
   "cell_type": "code",
   "execution_count": 66,
   "id": "0ab45a28",
   "metadata": {},
   "outputs": [
    {
     "name": "stdout",
     "output_type": "stream",
     "text": [
      "\n",
      "1、已处理文件：A公司.pdf -> D:\\视图\\凭证整理自动化项目\\2. process\\回单\\回单拆分\\A公司_拆分后的回单.pdf\n",
      "\n",
      "2、已处理文件：B公司.pdf -> D:\\视图\\凭证整理自动化项目\\2. process\\回单\\回单拆分\\B公司_拆分后的回单.pdf\n",
      "所有文件处理完成。\n"
     ]
    }
   ],
   "source": [
    "# 定义文件夹路径\n",
    "input_folder = Path(r\"D:\\视图\\凭证整理自动化项目\\1. input\\回单\")\n",
    "output_folder = Path(r\"D:\\视图\\凭证整理自动化项目\\2. process\\回单\\回单拆分\")\n",
    "\n",
    "# 确保输出文件夹存在\n",
    "output_folder.mkdir(parents=True, exist_ok=True)\n",
    "\n",
    "# 遍历文件夹中的所有 PDF 文件\n",
    "i = 1\n",
    "for filename in os.listdir(input_folder):\n",
    "    if filename.lower().endswith('.pdf'):\n",
    "        # 构造完整的文件路径\n",
    "        input_path = input_folder / filename\n",
    "        output_path = output_folder / f\"{filename[:-4]}_拆分后的回单.pdf\"  # 添加后缀以区分\n",
    "        \n",
    "        # 打开 PDF 文件\n",
    "        pdf_document = fitz.open(input_path)\n",
    "        \n",
    "        # 创建新的 PDF 文档\n",
    "        new_document = fitz.open()\n",
    "        \n",
    "        # 遍历每一页\n",
    "        for page_num in range(len(pdf_document)):\n",
    "            page = pdf_document[page_num]\n",
    "            text = page.get_text(\"text\")  # 使用 \"text\" 模式提取文本\n",
    "            #print(f\"文件 {filename} 第 {page_num + 1} 页提取的文本：\\n{text}\\n\")  # 调试输出\n",
    "            \n",
    "            if \"税(费)种名称\" in text:\n",
    "                # 如果包含“税(费)种名称”，则完整保留该页面\n",
    "                new_document.insert_pdf(pdf_document, from_page=page_num, to_page=page_num)\n",
    "                print(f\"文件 {filename} 第 {page_num + 1} 页包含 '税(费)种名称'，完整保留。\")\n",
    "            else:\n",
    "                # 如果不包含“税(费)种名称”，则分割为上下两部分\n",
    "                rect = page.rect\n",
    "                mid_y = rect.height / 2\n",
    "                top_half = fitz.Rect(rect.x0, rect.y0, rect.x1, mid_y)  # 上半部分矩形\n",
    "                bottom_half = fitz.Rect(rect.x0, mid_y, rect.x1, rect.y1)  # 下半部分矩形\n",
    "                \n",
    "                # 将上半部分插入新文档\n",
    "                new_page_top = new_document.new_page(width=rect.width, height=mid_y)\n",
    "                new_page_top.show_pdf_page(new_page_top.rect, pdf_document, page_num, clip=top_half)\n",
    "                \n",
    "                # 将下半部分插入新文档\n",
    "                new_page_bottom = new_document.new_page(width=rect.width, height=mid_y)\n",
    "                new_page_bottom.show_pdf_page(new_page_bottom.rect, pdf_document, page_num, clip=bottom_half)\n",
    "                #print(f\"文件 {filename} 第 {page_num + 1} 页不包含 '税(费)种名称'，分割为上下两部分。\")\n",
    "        \n",
    "        # 保存分割后的 PDF\n",
    "        new_document.save(output_path)\n",
    "        new_document.close()\n",
    "        print(f\"\\n{i}、已处理文件：{filename} -> {output_path}\")\n",
    "        i = i + 1\n",
    "\n",
    "print(\"所有文件处理完成。\")"
   ]
  },
  {
   "cell_type": "markdown",
   "id": "ac1a3a7c",
   "metadata": {},
   "source": [
    "## 1.2 提取PDF信息"
   ]
  },
  {
   "cell_type": "markdown",
   "id": "3834e2c0",
   "metadata": {},
   "source": [
    "### 1.2.1 招商银行"
   ]
  },
  {
   "cell_type": "code",
   "execution_count": 13,
   "id": "3894302c",
   "metadata": {},
   "outputs": [],
   "source": [
    "# 导入模块\n",
    "import os\n",
    "import fitz  # PyMuPDF\n",
    "import pandas as pd\n",
    "import re\n",
    "from pathlib import Path"
   ]
  },
  {
   "cell_type": "code",
   "execution_count": 67,
   "id": "ef5f4549",
   "metadata": {},
   "outputs": [
    {
     "name": "stdout",
     "output_type": "stream",
     "text": [
      "提取完成，信息已保存到：D:\\视图\\凭证整理自动化项目\\2. process\\回单\\回单信息提取.xlsx\n"
     ]
    }
   ],
   "source": [
    "# 定义公司主体列表\n",
    "company_list = [\n",
    "    \"A公司\", \"B公司\"\n",
    "]\n",
    "\n",
    "# 定义输入输出路径\n",
    "input_folder = Path(r\"D:\\视图\\凭证整理自动化项目\\2. process\\回单\\回单拆分\")\n",
    "output_path = Path(r\"D:\\视图\\凭证整理自动化项目\\2. process\\回单\\回单信息提取.xlsx\")\n",
    "\n",
    "# 初始化一个空的DataFrame用于存储提取的信息\n",
    "columns = [\"文件名\", \"公司主体\", \"账单类型\", \"交易日期\", \"交易金额\", \"页码\"]\n",
    "data = []\n",
    "\n",
    "# 遍历文件夹中的所有PDF文件\n",
    "for filename in os.listdir(input_folder):\n",
    "    if filename.lower().endswith('.pdf'):\n",
    "        pdf_path = input_folder / filename\n",
    "        \n",
    "        # 打开PDF文件\n",
    "        pdf_document = fitz.open(pdf_path)\n",
    "        \n",
    "        # 遍历每一页\n",
    "        for page_num in range(len(pdf_document)):\n",
    "            page = pdf_document.load_page(page_num)\n",
    "            text = page.get_text()\n",
    "            \n",
    "            # 判断是否包含“税(费)种名称”\n",
    "            is_tax_page = \"税(费)种名称\" in text\n",
    "            \n",
    "            # 提取账单类型\n",
    "            bill_type = None\n",
    "            if \"出账回单\" in text:\n",
    "                bill_type = \"出 账 回 单\"\n",
    "            elif \"入账回单\" in text:\n",
    "                bill_type = \"入 账 回 单\"\n",
    "            \n",
    "            # 提取公司主体\n",
    "            company = None\n",
    "            if bill_type == \"入 账 回 单\":\n",
    "                company_match = re.search(r\"收款人：([^\\s]+)\", text)  # 匹配收款人后的非空白字符\n",
    "            elif bill_type == \"出 账 回 单\":\n",
    "                company_match = re.search(r\"付款人：([^\\s]+)\", text)  # 匹配付款人后的非空白字符\n",
    "            \n",
    "            if company_match:\n",
    "                company = company_match.group(1).strip()  # 提取并去除多余空格\n",
    "                # 检查是否在公司主体列表中\n",
    "                if company not in company_list:\n",
    "                    company = None  # 如果不在列表中，则忽略\n",
    "            \n",
    "            # 如果仍未提取到公司主体，则检查公司主体列表\n",
    "            if not company:\n",
    "                for company_name in company_list:\n",
    "                    if company_name in text:\n",
    "                        company = company_name\n",
    "                        break\n",
    "            \n",
    "            # 提取交易日期\n",
    "            date_pattern = r\"\\d{4}年\\d{1,2}月\\d{1,2}日\"\n",
    "            transaction_date = re.search(date_pattern, text)\n",
    "            transaction_date = transaction_date.group() if transaction_date else None\n",
    "            \n",
    "            # 提取交易金额\n",
    "            if is_tax_page:\n",
    "                # 如果包含“税(费)种名称”，按照“交易金额(小写)： ￥3,717.84”格式提取\n",
    "                amount_pattern = r\"交易金额\\(小写\\)\\：\\s*￥([\\d\\.,]+)\"\n",
    "            else:\n",
    "                # 否则按照原来的格式提取\n",
    "                amount_pattern = r\"交易金额\\(小写\\)\\：CNY([\\d\\.,]+)\"\n",
    "            \n",
    "            transaction_amount = re.search(amount_pattern, text)\n",
    "            if transaction_amount:\n",
    "                amount_str = transaction_amount.group(1).replace(\",\", \"\")  # 移除逗号\n",
    "                try:\n",
    "                    transaction_amount = float(amount_str)  # 转换为浮点数\n",
    "                except ValueError:\n",
    "                    transaction_amount = None  # 如果转换失败，设置为None\n",
    "            else:\n",
    "                transaction_amount = None\n",
    "            \n",
    "            # 将提取的信息存储到列表中\n",
    "            data.append([filename, company, bill_type, transaction_date, transaction_amount, page_num + 1])\n",
    "        \n",
    "        pdf_document.close()\n",
    "\n",
    "# 将提取的数据保存到Excel表格中\n",
    "df_zsyh = pd.DataFrame(data, columns=columns)\n",
    "\n",
    "# 按照公司主体、账单类型、交易日期、交易金额进行分组\n",
    "df_zsyh['分组标记'] = df_zsyh.groupby(['公司主体', '账单类型', '交易日期', '交易金额']).cumcount() + 1\n",
    "df_zsyh['银行'] = '招商银行'\n",
    "\n",
    "df_hdtq = pd.concat([df_zsyh],axis=0, ignore_index=True)\n",
    "\n",
    "df_hdtq.to_excel(output_path, index=False)\n",
    "\n",
    "print(f\"提取完成，信息已保存到：{output_path}\")"
   ]
  },
  {
   "cell_type": "markdown",
   "id": "76c0e992",
   "metadata": {},
   "source": [
    "# 二、处理会计凭证"
   ]
  },
  {
   "cell_type": "markdown",
   "id": "a0c81ebc",
   "metadata": {},
   "source": [
    "## 2.1 凭证分组标记"
   ]
  },
  {
   "cell_type": "markdown",
   "id": "a01f15ab",
   "metadata": {},
   "source": [
    "#### 将会计凭证导出为excel，利用python统一格式，并进行分组标记"
   ]
  },
  {
   "cell_type": "code",
   "execution_count": 5,
   "id": "946b7597",
   "metadata": {},
   "outputs": [],
   "source": [
    "# 导入模块\n",
    "import pandas as pd\n",
    "from pathlib import Path"
   ]
  },
  {
   "cell_type": "code",
   "execution_count": 68,
   "id": "bf6a404e",
   "metadata": {},
   "outputs": [
    {
     "name": "stdout",
     "output_type": "stream",
     "text": [
      "处理完成，修改后的文件已保存到：D:\\视图\\凭证整理自动化项目\\2. process\\凭证\\凭证-分组标记.xlsx\n"
     ]
    }
   ],
   "source": [
    "# 定义输入输出文件路径\n",
    "input_path = Path(r\"D:\\视图\\凭证整理自动化项目\\1. input\\凭证\\凭证.xlsx\")\n",
    "output_path = Path(r\"D:\\视图\\凭证整理自动化项目\\2. process\\凭证\\凭证-分组标记.xlsx\")\n",
    "\n",
    "\n",
    "# 读取Excel文件\n",
    "df = pd.read_excel(input_path, sheet_name='Sheet1', header=0)  # 第一行作为表头\n",
    "\n",
    "# 确保“原币金额”列为数值类型\n",
    "df['原币金额'] = pd.to_numeric(df['原币金额'], errors='coerce')\n",
    "\n",
    "# 确保“银行账号”列为文本类型\n",
    "df['银行账号'] = df['银行账号'].astype(str)\n",
    "\n",
    "# 新增“交易日期”列，赋值为“摘要”列从左往右的10个字符\n",
    "df['交易日期'] = df['摘要'].astype(str).str[:10]\n",
    "\n",
    "# 新增“类型”列\n",
    "def assign_type(summary):\n",
    "    summary = str(summary)  # 确保summary是字符串\n",
    "    if \"收到\" in summary[:12]:  # 如果前12个字符包含“收到”\n",
    "        return \"入 账 回 单\"\n",
    "    elif \"支付\" in summary[:13]:  # 如果前13个字符包含“支付”\n",
    "        return \"出 账 回 单\"\n",
    "    elif \"收到\" in summary:  # 如果摘要中包含“收到”\n",
    "        return \"入 账 回 单\"\n",
    "    elif \"支付\" in summary:  # 如果摘要中包含“支付”\n",
    "        return \"出 账 回 单\"\n",
    "    else:\n",
    "        return \"\"  # 默认值为空\n",
    "\n",
    "df['类型'] = df['摘要'].apply(assign_type)\n",
    "\n",
    "# 将“交易日期”列格式转换为“yyyy年mm月dd日”，并确保为文本类型\n",
    "df['交易日期'] = pd.to_datetime(df['交易日期'], errors='coerce').dt.strftime('%Y年%m月%d日')\n",
    "\n",
    "# 去掉“账簿”列中的空格\n",
    "df['账簿'] = df['账簿'].astype(str).str.strip()\n",
    "\n",
    "# 选择需要的列\n",
    "df = df[['账簿', '凭证号', '交易日期', '类型', '摘要', '科目编码', '科目全名', '币别', '原币金额', '银行账号', '银行']]\n",
    "\n",
    "# 按照账簿、交易日期、类型、原币金额、银行列进行分组\n",
    "grouped = df.groupby(['账簿', '交易日期', '类型', '原币金额','银行'], dropna=False)\n",
    "\n",
    "# 为每组数据生成从1开始的标记\n",
    "df['分组标记'] = grouped.cumcount() + 1\n",
    "\n",
    "# 保存处理后的数据到新的Excel文件\n",
    "df.to_excel(output_path, index=False)\n",
    "\n",
    "print(f\"处理完成，修改后的文件已保存到：{output_path}\")"
   ]
  },
  {
   "cell_type": "markdown",
   "id": "24893399",
   "metadata": {},
   "source": [
    "## 2.2 凭证拆分"
   ]
  },
  {
   "cell_type": "markdown",
   "id": "71a402f2",
   "metadata": {},
   "source": [
    "#### 将会计凭证导出为PDF，按公司与凭证号分组，利用python拆分凭证"
   ]
  },
  {
   "cell_type": "code",
   "execution_count": 17,
   "id": "6cefa315",
   "metadata": {},
   "outputs": [],
   "source": [
    "# 导入模块\n",
    "import os\n",
    "import re\n",
    "import fitz  # PyMuPDF\n",
    "import pandas as pd"
   ]
  },
  {
   "cell_type": "code",
   "execution_count": 69,
   "id": "f5745ae1",
   "metadata": {},
   "outputs": [
    {
     "name": "stdout",
     "output_type": "stream",
     "text": [
      "拆分后的凭证已保存到：D:\\视图\\凭证整理自动化项目\\2. process\\凭证\\凭证拆分\n"
     ]
    }
   ],
   "source": [
    "# 定义输入和输出路径\n",
    "input_pdf_path = r\"D:\\视图\\凭证整理自动化项目\\1. input\\凭证\\凭证.pdf\"\n",
    "output_folder = r\"D:\\视图\\凭证整理自动化项目\\2. process\\凭证\\凭证拆分\"\n",
    "\n",
    "def extract_text_from_page(page):\n",
    "    \"\"\"从PDF页面中提取文本\"\"\"\n",
    "    text = page.get_text()\n",
    "    return text\n",
    "\n",
    "def extract_company_and_voucher(text):\n",
    "    \"\"\"从文本中提取公司主体和凭证号\"\"\"\n",
    "    company_pattern = r\"核算单位 Unit\\s*(.+)\"\n",
    "    voucher_pattern = r\"编号：记\\s*(\\d+)\"\n",
    "    \n",
    "    company_match = re.search(company_pattern, text)\n",
    "    voucher_match = re.search(voucher_pattern, text)\n",
    "    \n",
    "    company = company_match.group(1).strip() if company_match else None\n",
    "    voucher = voucher_match.group(1).strip() if voucher_match else None\n",
    "    \n",
    "    return company, voucher\n",
    "\n",
    "def split_and_save_pdf(input_pdf_path, output_folder):\n",
    "    \"\"\"拆分PDF并保存\"\"\"\n",
    "    if not os.path.exists(output_folder):\n",
    "        os.makedirs(output_folder)\n",
    "    \n",
    "    # 打开PDF文件\n",
    "    doc = fitz.open(input_pdf_path)\n",
    "    results = []  # 用于存储提取结果\n",
    "    page_groups = {}  # 用于分组存储页面\n",
    "\n",
    "    for page_num in range(len(doc)):\n",
    "        page = doc.load_page(page_num)\n",
    "        text = extract_text_from_page(page)\n",
    "        company, voucher = extract_company_and_voucher(text)\n",
    "        \n",
    "        if company and voucher:\n",
    "            group_key = f\"{company}_{voucher}\"\n",
    "            if group_key not in page_groups:\n",
    "                page_groups[group_key] = []\n",
    "            page_groups[group_key].append(page_num + 1)  # 页码从1开始\n",
    "            results.append([company, voucher, page_num + 1])\n",
    "    \n",
    "    # 保存分组后的PDF文件\n",
    "    for group_key, pages in page_groups.items():\n",
    "        output_pdf_path = os.path.join(output_folder, f\"{group_key}号凭证.pdf\")\n",
    "        new_doc = fitz.open()  # 创建一个新的PDF文档\n",
    "        for page_num in pages:\n",
    "            new_doc.insert_pdf(doc, from_page=page_num - 1, to_page=page_num - 1)\n",
    "        new_doc.save(output_pdf_path)\n",
    "        new_doc.close()\n",
    "    \n",
    "    doc.close()\n",
    "    \n",
    "    # 保存提取结果到Excel文件\n",
    "    df = pd.DataFrame(results, columns=[\"公司主体\", \"凭证号\", \"PDF页码\"])\n",
    "    #excel_path = os.path.join(output_folder, \"凭证-提取结果.xlsx\")\n",
    "    #df.to_excel(excel_path, index=False, engine=\"openpyxl\")\n",
    "    #print(f\"提取结果已保存到：{excel_path}\")\n",
    "\n",
    "# 执行拆分和保存操作\n",
    "split_and_save_pdf(input_pdf_path, output_folder)\n",
    "print(f\"拆分后的凭证已保存到：{output_folder}\")"
   ]
  },
  {
   "cell_type": "markdown",
   "id": "300e1bbe",
   "metadata": {},
   "source": [
    "# 三、回单与凭证匹配"
   ]
  },
  {
   "cell_type": "markdown",
   "id": "b113b0f4",
   "metadata": {},
   "source": [
    "## 3.1 为回单匹配正确凭证号"
   ]
  },
  {
   "cell_type": "code",
   "execution_count": 70,
   "id": "ea0288d9",
   "metadata": {},
   "outputs": [],
   "source": [
    "import pandas as pd\n",
    "from pathlib import Path\n",
    "\n",
    "# 定义文件路径\n",
    "pdf_data_path = Path(r\"D:\\视图\\凭证整理自动化项目\\2. process\\回单\\回单信息提取.xlsx\")  # 回单PDF提取信息\n",
    "excel_data_path = Path(r\"D:\\视图\\凭证整理自动化项目\\2. process\\凭证\\凭证-分组标记.xlsx\")  # 处理后的Excel数据\n",
    "output_path1 = Path(r\"D:\\视图\\凭证整理自动化项目\\2. process\\凭证&回单-匹配\\凭证-匹配结果.xlsx\")  # 输出文件\n",
    "output_path2 = Path(r\"D:\\视图\\凭证整理自动化项目\\2. process\\凭证&回单-匹配\\回单信息提取-匹配结果.xlsx\")  # 输出文件\n",
    "\n",
    "# 读取PDF提取信息\n",
    "pdf_df = pd.read_excel(pdf_data_path)\n",
    "\n",
    "# 读取处理后的Excel数据\n",
    "excel_df = pd.read_excel(excel_data_path)\n",
    "\n",
    "# 初始化匹配结果列\n",
    "pdf_df['匹配结果'] = \"未匹配\"\n",
    "pdf_df['凭证号'] = None  # 用于记录匹配的凭证号\n",
    "excel_df['匹配结果'] = \"未匹配\"\n",
    "excel_df['匹配的PDF页码'] = None  # 用于记录匹配的PDF页码\n"
   ]
  },
  {
   "cell_type": "code",
   "execution_count": 71,
   "id": "217bd5f1",
   "metadata": {},
   "outputs": [],
   "source": [
    "# 使用 merge 进行匹配\n",
    "# 匹配更新回单提取信息表--------------\n",
    "merged_df_pdf = pd.merge(\n",
    "    pdf_df,\n",
    "    excel_df,\n",
    "    left_on=[\"公司主体\", \"账单类型\", \"交易日期\", \"交易金额\", \"分组标记\",\"银行\"],\n",
    "    right_on=[\"账簿\", \"类型\", \"交易日期\", \"原币金额\", \"分组标记\",\"银行\"],\n",
    "    how=\"left\",\n",
    "    suffixes=('_pdf', '_excel')  # 为重复列添加后缀\n",
    ")\n",
    "# 更新匹配结果\n",
    "pdf_df['匹配结果'] = merged_df_pdf['凭证号_excel'].notna().replace({True: \"已匹配\", False: \"未匹配\"})\n",
    "pdf_df['凭证号'] = merged_df_pdf['凭证号_excel']\n",
    "\n",
    "# 匹配更新excel表-------------------\n",
    "# 使用 merge 进行匹配\n",
    "merged_df_excel = pd.merge(\n",
    "    pdf_df,\n",
    "    excel_df,\n",
    "    left_on=[\"公司主体\", \"账单类型\", \"交易日期\", \"交易金额\", \"分组标记\",\"银行\"],\n",
    "    right_on=[\"账簿\", \"类型\", \"交易日期\", \"原币金额\", \"分组标记\",\"银行\"],\n",
    "    how=\"right\",\n",
    "    suffixes=('_pdf', '_excel')  # 为重复列添加后缀\n",
    ")\n",
    "excel_df['匹配结果'] = merged_df_excel['文件名'].notna().replace({True: \"已匹配\", False: \"未匹配\"})\n",
    "excel_df['匹配的PDF页码'] = merged_df_excel['页码']\n"
   ]
  },
  {
   "cell_type": "code",
   "execution_count": 72,
   "id": "6fd010fa",
   "metadata": {
    "scrolled": true
   },
   "outputs": [
    {
     "name": "stdout",
     "output_type": "stream",
     "text": [
      "匹配完成，结果已保存到：D:\\视图\\凭证整理自动化项目\\2. process\\凭证&回单-匹配\\凭证-匹配结果.xlsx\n",
      "匹配完成，结果已保存到：D:\\视图\\凭证整理自动化项目\\2. process\\凭证&回单-匹配\\回单信息提取-匹配结果.xlsx\n"
     ]
    }
   ],
   "source": [
    "# 保存匹配结果\n",
    "pdf_df.to_excel(output_path2, index=False)  # 保存PDF匹配结果\n",
    "excel_df.to_excel(output_path1, index=False)  # 保存Excel匹配结果\n",
    "\n",
    "print(f\"匹配完成，结果已保存到：{output_path1}\\n匹配完成，结果已保存到：{output_path2}\")"
   ]
  },
  {
   "cell_type": "markdown",
   "id": "0511af96",
   "metadata": {},
   "source": [
    "## 3.2 按凭证号合并输出匹配后的回单PDF"
   ]
  },
  {
   "cell_type": "markdown",
   "id": "28883baf",
   "metadata": {},
   "source": [
    "### 3.2.1 招商银行"
   ]
  },
  {
   "cell_type": "code",
   "execution_count": 73,
   "id": "0de840f6",
   "metadata": {},
   "outputs": [],
   "source": [
    "#导入模块\n",
    "import os\n",
    "import fitz  # PyMuPDF\n",
    "import pandas as pd\n",
    "from pathlib import Path"
   ]
  },
  {
   "cell_type": "code",
   "execution_count": 76,
   "id": "cdad9988",
   "metadata": {},
   "outputs": [
    {
     "name": "stdout",
     "output_type": "stream",
     "text": [
      "所有PDF文件已按公司主体和凭证号分组合并，并保存到：D:\\视图\\凭证整理自动化项目\\2. process\\凭证&回单-匹配\n"
     ]
    }
   ],
   "source": [
    "# 定义输入输出路径\n",
    "input_excel = Path(r\"D:\\视图\\凭证整理自动化项目\\2. process\\凭证&回单-匹配\\回单信息提取-匹配结果.xlsx\")\n",
    "input_pdf_folder = Path(r\"D:\\视图\\凭证整理自动化项目\\2. process\\回单\\回单拆分\")\n",
    "output_folder = Path(r\"D:\\视图\\凭证整理自动化项目\\2. process\\凭证&回单-匹配\")\n",
    "\n",
    "# 确保输出文件夹存在\n",
    "output_folder.mkdir(parents=True, exist_ok=True)\n",
    "\n",
    "# 读取回单提取信息的Excel文件\n",
    "df = pd.read_excel(input_excel)\n",
    "df = df[df['银行']=='招商银行']\n",
    "\n",
    "# 按公司主体和凭证号分组\n",
    "grouped = df.groupby([\"公司主体\", \"凭证号\"])\n",
    "\n",
    "# 遍历每个分组\n",
    "for (company, voucher), group in grouped:\n",
    "    # 创建一个新的PDF文档（用于合并普通页面）\n",
    "    output_pdf = fitz.open()\n",
    "    \n",
    "    # 创建一个新的PDF文档（用于单独保存大页面）\n",
    "    large_pdf = fitz.open()\n",
    "    \n",
    "    # 按页码升序排序\n",
    "    group = group.sort_values(by=\"页码\")\n",
    "    \n",
    "    # 每页最多放6个PDF页面\n",
    "    pages_per_sheet = 6\n",
    "    num_pages = len(group)\n",
    "    num_sheets = (num_pages + pages_per_sheet - 1) // pages_per_sheet  # 总页数\n",
    "    \n",
    "    for sheet in range(num_sheets):\n",
    "        # 创建一个新的空白页面（A4纵向）\n",
    "        new_page = output_pdf.new_page(width=595, height=842)  # A4纵向页面大小\n",
    "        start_idx = sheet * pages_per_sheet\n",
    "        end_idx = min(start_idx + pages_per_sheet, num_pages)\n",
    "        \n",
    "        for i, (_, row) in enumerate(group.iloc[start_idx:end_idx].iterrows()):\n",
    "            # 获取PDF文件路径\n",
    "            pdf_path = input_pdf_folder / row[\"文件名\"]\n",
    "            if not pdf_path.exists():\n",
    "                print(f\"警告：文件 {pdf_path} 不存在，跳过。\")\n",
    "                continue\n",
    "            \n",
    "            try:\n",
    "                # 打开PDF文件\n",
    "                pdf_document = fitz.open(pdf_path)\n",
    "                if pdf_document is None:\n",
    "                    print(f\"警告：无法打开文件 {pdf_path}，跳过。\")\n",
    "                    continue\n",
    "                \n",
    "                # 获取对应页码的页面\n",
    "                page_num = int(row[\"页码\"]) - 1  # 页码从0开始\n",
    "                if page_num < 0 or page_num >= len(pdf_document):\n",
    "                    print(f\"警告：页码 {page_num + 1} 超出范围，文件 {pdf_path} 跳过。\")\n",
    "                    pdf_document.close()\n",
    "                    continue\n",
    "                \n",
    "                page = pdf_document.load_page(page_num)\n",
    "                \n",
    "                # 判断页面高度是否超过500\n",
    "                if page.rect.height > 500:\n",
    "                    # 如果高度超过500，单独保存到大页面PDF\n",
    "                    large_pdf.insert_pdf(pdf_document, from_page=page_num, to_page=page_num)\n",
    "                    pdf_document.close()\n",
    "                    continue  # 跳过当前循环，不与其他PDF合并\n",
    "                \n",
    "                # 计算放置位置（纵向布局，每页6个PDF，2列3行）\n",
    "                col = i % 2  # 列索引（0或1）\n",
    "                row_idx = i // 2  # 行索引（0、1或2）\n",
    "                x = col * 297.5  # 水平位置\n",
    "                y = row_idx * 280  # 垂直位置（适当调整间距）\n",
    "                \n",
    "                # 计算缩放比例\n",
    "                target_width = 297.5  # 目标宽度\n",
    "                target_height = 280  # 目标高度\n",
    "                scale_width = target_width / page.rect.width\n",
    "                scale_height = target_height / page.rect.height\n",
    "                scale = min(scale_width, scale_height)  # 取较小的缩放比例\n",
    "                \n",
    "                # 定义目标矩形区域\n",
    "                target_rect = fitz.Rect(x, y, x + target_width, y + target_height)\n",
    "                \n",
    "                # 将PDF页面插入到新页面，并缩放\n",
    "                new_page.show_pdf_page(target_rect, pdf_document, page_num)\n",
    "                \n",
    "                # 在左上角添加凭证号（竖直显示，字号为24）\n",
    "                voucher_num = str(int(row[\"凭证号\"]))  # 确保凭证号为整型\n",
    "                rect = fitz.Rect(x + 250, y + 70, x + 290, y + 280)  # 右上角矩形区域，调整大小以适应24号字体\n",
    "                new_page.insert_text(rect.tl, voucher_num, fontname=\"helv\", fontsize=24, color=(0, 0, 0), rotate=0)  # 竖直显示\n",
    "                \n",
    "                pdf_document.close()\n",
    "            except Exception as e:\n",
    "                print(f\"错误：处理文件 {pdf_path}第{page_num + 1}页时发生异常：{e}\\n\")\n",
    "                continue\n",
    "    \n",
    "    # 保存合并后的PDF文件（普通页面）\n",
    "    if len(output_pdf) > 0:\n",
    "        output_filename = f\"{company}_{int(voucher)}号凭证_招商银行.pdf\"\n",
    "        output_path = output_folder / output_filename\n",
    "        output_pdf.save(output_path)\n",
    "        output_pdf.close()\n",
    "        #print(f\"已保存合并后的PDF文件：{output_path}\")\n",
    "    else:\n",
    "        print(f\"警告：{company}_{int(voucher)} 没有有效的普通页面，跳过保存。\")\n",
    "    \n",
    "    # 保存单独的大页面PDF文件\n",
    "    if len(large_pdf) > 0:\n",
    "        large_output_filename = f\"{company}_{int(voucher)}号凭证_招商银行_税费.pdf\"\n",
    "        large_output_path = output_folder / large_output_filename\n",
    "        large_pdf.save(large_output_path)\n",
    "        large_pdf.close()\n",
    "        print(f\"已保存税费PDF文件：{large_output_path}\")\n",
    "    #else:\n",
    "        #print(f\"警告：{company}_{int(voucher)} 没有大页面，跳过保存。\")\n",
    "\n",
    "print(f\"所有PDF文件已按公司主体和凭证号分组合并，并保存到：{output_folder}\")"
   ]
  },
  {
   "cell_type": "code",
   "execution_count": null,
   "id": "3ce3f552",
   "metadata": {},
   "outputs": [],
   "source": []
  },
  {
   "cell_type": "markdown",
   "id": "b7059adc",
   "metadata": {},
   "source": [
    "## 3.3 凭证与回单交叉合并打印"
   ]
  },
  {
   "cell_type": "code",
   "execution_count": 78,
   "id": "6868acaf",
   "metadata": {},
   "outputs": [
    {
     "name": "stdout",
     "output_type": "stream",
     "text": [
      "正在处理源文件夹：D:\\视图\\凭证整理自动化项目\\2. process\\凭证\\凭证拆分\n",
      "正在处理源文件夹：D:\\视图\\凭证整理自动化项目\\2. process\\凭证&回单-匹配\n",
      "已合并并保存文件：D:\\视图\\凭证整理自动化项目\\3. output\\A公司_整理后的会计凭证.pdf\n",
      "已合并并保存文件：D:\\视图\\凭证整理自动化项目\\3. output\\B公司_整理后的会计凭证.pdf\n",
      "所有文件合并完成\n"
     ]
    }
   ],
   "source": [
    "import os\n",
    "import fitz  # PyMuPDF\n",
    "from pathlib import Path\n",
    "import re\n",
    "\n",
    "# 定义多个源文件夹路径\n",
    "source_folders = [\n",
    "    Path(r\"D:\\视图\\凭证整理自动化项目\\2. process\\凭证\\凭证拆分\"),\n",
    "    Path(r\"D:\\视图\\凭证整理自动化项目\\2. process\\凭证&回单-匹配\"),\n",
    "]\n",
    "\n",
    "# 定义目标文件夹路径\n",
    "target_folder = Path(r\"D:\\视图\\凭证整理自动化项目\\3. output\")\n",
    "\n",
    "# 确保目标文件夹存在\n",
    "target_folder.mkdir(parents=True, exist_ok=True)\n",
    "\n",
    "# 支持的文件类型\n",
    "supported_extensions = ['.pdf', '.jpg', '.jpeg', '.png', '.bmp']\n",
    "\n",
    "# 自然排序函数\n",
    "def natural_sort_key(s):\n",
    "    \"\"\"\n",
    "    将字符串中的数字部分转换为整数，用于自然排序。\n",
    "    例如：\"公司1_12_银行\" -> [\"公司\", 1, \"_\", 12, \"_银行\"]\n",
    "    \"\"\"\n",
    "    return [int(text) if text.isdigit() else text.lower() for text in re.split('([0-9]+)', str(s))]\n",
    "\n",
    "# 按公司主体分组文件\n",
    "company_files = {}\n",
    "\n",
    "# 遍历每个源文件夹\n",
    "for source_folder in source_folders:\n",
    "    if not source_folder.is_dir():  # 确保源文件夹存在\n",
    "        print(f\"警告：源文件夹 {source_folder} 不存在，跳过。\")\n",
    "        continue\n",
    "\n",
    "    print(f\"正在处理源文件夹：{source_folder}\")\n",
    "    \n",
    "    # 遍历源文件夹中的所有文件\n",
    "    for file in source_folder.iterdir():\n",
    "        if file.is_file() and file.suffix.lower() in supported_extensions:\n",
    "            # 提取文件名中第一个“_”前的文本作为公司主体\n",
    "            company_name = file.name.split(\"_\")[0]\n",
    "\n",
    "            # 将文件按公司主体分组\n",
    "            if company_name not in company_files:\n",
    "                company_files[company_name] = []\n",
    "            company_files[company_name].append(file)\n",
    "\n",
    "# 合并每个公司主体的文件\n",
    "for company_name, files in company_files.items():\n",
    "    # 按文件名自然排序\n",
    "    files.sort(key=lambda x: natural_sort_key(x.name))\n",
    "\n",
    "    # 创建一个新的PDF文档\n",
    "    merged_pdf = fitz.open()\n",
    "\n",
    "    # 遍历文件并合并\n",
    "    for file in files:\n",
    "        if file.suffix.lower() == '.pdf':\n",
    "            # 如果是PDF文件，直接插入\n",
    "            pdf_document = fitz.open(file)\n",
    "            merged_pdf.insert_pdf(pdf_document)\n",
    "            pdf_document.close()\n",
    "        else:\n",
    "            # 如果是图片文件，插入到新页面\n",
    "            imgdoc = fitz.open(file)  # 打开图片文件\n",
    "            rect = imgdoc[0].rect  # 获取图片的矩形区域\n",
    "            pdfbytes = imgdoc.convert_to_pdf()  # 将图片转换为PDF\n",
    "            imgpdf = fitz.open(\"pdf\", pdfbytes)  # 打开转换后的PDF\n",
    "            page = merged_pdf.new_page(width=rect.width, height=rect.height)  # 创建新页面\n",
    "            page.show_pdf_page(rect, imgpdf, 0)  # 将图片插入到新页面\n",
    "            imgpdf.close()\n",
    "\n",
    "    # 保存合并后的PDF文件\n",
    "    output_filename = f\"{company_name}_整理后的会计凭证.pdf\"\n",
    "    output_path = target_folder / output_filename\n",
    "    merged_pdf.save(output_path)\n",
    "    merged_pdf.close()\n",
    "    print(f\"已合并并保存文件：{output_path}\")\n",
    "\n",
    "print(\"所有文件合并完成\")"
   ]
  },
  {
   "cell_type": "code",
   "execution_count": null,
   "id": "08b684e4",
   "metadata": {},
   "outputs": [],
   "source": []
  }
 ],
 "metadata": {
  "kernelspec": {
   "display_name": "Python 3 (ipykernel)",
   "language": "python",
   "name": "python3"
  },
  "language_info": {
   "codemirror_mode": {
    "name": "ipython",
    "version": 3
   },
   "file_extension": ".py",
   "mimetype": "text/x-python",
   "name": "python",
   "nbconvert_exporter": "python",
   "pygments_lexer": "ipython3",
   "version": "3.9.12"
  }
 },
 "nbformat": 4,
 "nbformat_minor": 5
}
